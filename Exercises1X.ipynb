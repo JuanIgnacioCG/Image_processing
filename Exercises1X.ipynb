{
 "cells": [
  {
   "cell_type": "markdown",
   "metadata": {},
   "source": [
    "# EXERCISES 1X JUAN IGNACIO CABALLERO\n"
   ]
  },
  {
   "cell_type": "markdown",
   "metadata": {},
   "source": [
    "## LIBRARIES"
   ]
  },
  {
   "cell_type": "code",
   "execution_count": 2,
   "metadata": {},
   "outputs": [],
   "source": [
    "import numpy as np\n",
    "import skimage\n",
    "from skimage.color import rgb2gray\n",
    "from scipy import stats\n",
    "import scipy\n",
    "import pandas as pd\n",
    " \n",
    "\n",
    "import importlib\n",
    "\n",
    "\n",
    "from pathlib import Path\n",
    "from PIL import Image\n",
    "\n",
    "import matplotlib.pyplot as plt\n",
    "import napari\n",
    "from napari.utils import nbscreenshot\n",
    "%gui qt5"
   ]
  },
  {
   "cell_type": "code",
   "execution_count": 27,
   "metadata": {},
   "outputs": [],
   "source": [
    "# Function definitions\n",
    "'''\n",
    "Neighbours:\n",
    "    It computes the neighbours of each pixel. Identifying each of them\n",
    "    \n",
    "    vec_array2d: Its the area of the image where the neighbours are computed\n",
    "    \n",
    "    vec_array2d has size factor of array2D size: \n",
    "    --> size(vec_array) es factor de size(array2d)\n",
    "    \n",
    "    The vec_array needs to be flattened to be an input.\n",
    "    \n",
    "    output: list of the each type of neighbour and the value of the pixels.\n",
    "    When in an edge the result is nan\n",
    "'''    \n",
    "def neighbours(array2d, vec_array2d):\n",
    "    vec_array2d_lf = []\n",
    "    vec_array2d_rg = []\n",
    "    vec_array2d_up = []\n",
    "    vec_array2d_dw = []\n",
    " \n",
    " # Valores a la izda, derecha, arriba y abajo de cada pixel. Estan a una distancia periodica. \n",
    "    for i in range(len(vec_array2d)):\n",
    "        if (i - array2d.shape[1])< 0:\n",
    "            vec_array2d_lf.append(np.nan)  #Borde de imagen tienen nan\n",
    "        else:\n",
    "            vec_array2d_lf.append(vec_array2d[i - array2d.shape[1]])\n",
    "\n",
    "    for i in range(len(vec_array2d)):\n",
    "        if (i + array2d.shape[1])>= vec_array2d.size: # hay que restar 1 por empezar en 0\n",
    "            vec_array2d_rg.append(np.nan)  #Borde de imagen tienen nan\n",
    "        else:\n",
    "            vec_array2d_rg.append(vec_array2d[i + array2d.shape[1]])\n",
    "\n",
    "    for i in range(len(vec_array2d)):\n",
    "        if i % array2d.shape[1] == 0:\n",
    "            vec_array2d_up.append(np.nan)  #Borde de imagen tienen nan\n",
    "        else:\n",
    "            vec_array2d_up.append(vec_array2d[i - 1])\n",
    "\n",
    "    for i in range(len(vec_array2d)):\n",
    "        if i in np.arange(array2d.shape[1]-1, vec_array2d.size+array2d.shape[1], array2d.shape[1]):\n",
    "            vec_array2d_dw.append(np.nan)  #Borde de imagen tienen nan\n",
    "        else:\n",
    "            vec_array2d_dw.append(vec_array2d.flatten('C')[i + 1])\n",
    "\n",
    "    # Diagonales\n",
    "    ##Miro los up y down de la columna a izda y derecha.\n",
    "    diag_iz_up = []\n",
    "    diag_iz_do = []\n",
    "    diag_de_up = []\n",
    "    diag_de_do = []\n",
    "\n",
    "    for i in range(len(vec_array2d)):\n",
    "        if ((pd.isnull(vec_array2d_lf[i])) or (pd.isnull(vec_array2d_up[i]))):\n",
    "            diag_iz_up.append(np.nan)  #Borde de imagen tienen nan\n",
    "        else:\n",
    "            diag_iz_up.append(vec_array2d[i - array2d.shape[1]-1])\n",
    "    for i in range(len(vec_array2d)):\n",
    "        if i in np.arange(array2d.shape[1]-1,vec_array2d.size+array2d.shape[1],array2d.shape[1]) or ((i - array2d.shape[1]+1)<0):\n",
    "            diag_iz_do.append(np.nan)  #Borde de imagen tienen nan\n",
    "        else:\n",
    "            diag_iz_do.append(vec_array2d[i - array2d.shape[1]+1])\n",
    "    for i in range(len(vec_array2d)):\n",
    "        if ((i + array2d.shape[1])>= vec_array2d.size) or (i % array2d.shape[1] == 0):\n",
    "            diag_de_up.append(np.nan)  #Borde de imagen tienen nan\n",
    "        else:\n",
    "            diag_de_up.append(vec_array2d[i + array2d.shape[1]-1])\n",
    "    for i in range(len(vec_array2d)):\n",
    "        if ((i + array2d.shape[1])>= vec_array2d.size) or (i in np.arange(array2d.shape[1]-1, vec_array2d.size+array2d.shape[1], array2d.shape[1])): # hay que restar 1 por empezar en 0\n",
    "            diag_de_do.append(np.nan)  #Borde de imagen tienen nan\n",
    "        else:\n",
    "            diag_de_do.append(vec_array2d[i + array2d.shape[1]+1])\n",
    "    \n",
    "    return (vec_array2d_lf,vec_array2d_rg,vec_array2d_up,vec_array2d_dw,diag_iz_up,diag_iz_do,diag_de_up,diag_de_do)"
   ]
  },
  {
   "cell_type": "markdown",
   "metadata": {},
   "source": [
    "## EXERCISES"
   ]
  },
  {
   "cell_type": "markdown",
   "metadata": {},
   "source": [
    "## 11a Flatzone\n",
    "Implement a program that obtains the flat zone (pixels of the same value) of a pixel (ii,jj)."
   ]
  },
  {
   "cell_type": "code",
   "execution_count": 34,
   "metadata": {},
   "outputs": [
    {
     "data": {
      "text/plain": [
       "array([[2, 2, 2, 3],\n",
       "       [4, 4, 4, 3],\n",
       "       [4, 2, 2, 3],\n",
       "       [4, 2, 2, 3]])"
      ]
     },
     "execution_count": 34,
     "metadata": {},
     "output_type": "execute_result"
    }
   ],
   "source": [
    "sample_img = np.array([[2,2,2,3],\n",
    "                       [4,4,4,3],\n",
    "                       [4,2,2,3],\n",
    "                       [4,2,2,3]])\n",
    "sample_img"
   ]
  },
  {
   "cell_type": "markdown",
   "metadata": {},
   "source": [
    "### First approach\n",
    "I leave the code in the cell just in case you are interested in checking it indeep. The procedure is encapsulated cells below"
   ]
  },
  {
   "cell_type": "code",
   "execution_count": 130,
   "metadata": {},
   "outputs": [
    {
     "name": "stdout",
     "output_type": "stream",
     "text": [
      "This is n_pix 3\n",
      "This is ii,jj 0 3\n",
      "This is n_pix 7\n",
      "This is ii,jj 1 3\n",
      "This is n_pix 11\n",
      "This is ii,jj 2 3\n",
      "This is n_pix 15\n",
      "This is ii,jj 3 3\n"
     ]
    }
   ],
   "source": [
    "# ii,jj = 0,3\n",
    "label = 1\n",
    "n_pix = ii*sample_img.shape[1] + jj\n",
    "v_pix = sample_img[ii,jj]\n",
    "\n",
    "sample_out[ii,jj] = label\n",
    "flatzone = []\n",
    "flatzone.append(n_pix)\n",
    "a_neighbours = np.array(neighbours(sample_img,sample_img.flatten()))\n",
    "sample_out = np.zeros(sample_img.shape,dtype='int')\n",
    "sample_out[ii,jj] = label\n",
    "\n",
    "while flatzone:\n",
    "    try:\n",
    "        n_pix = flatzone.pop(-1)\n",
    "        ii = np.int(n_pix / sample_img.shape[1])\n",
    "        jj = n_pix - ii*sample_img.shape[1] \n",
    "        print('This is n_pix',n_pix)\n",
    "        print('This is ii,jj',ii,jj)\n",
    "\n",
    "        vec_array2d_up,vec_array2d_dw,vec_array2d_lf,vec_array2d_rg,diag_iz_up,diag_de_up,diag_iz_do,diag_de_do = a_neighbours[:,n_pix]\n",
    "        # Checking if the neighbour have the same value\n",
    "        if (vec_array2d_up == v_pix) & (sample_out[ii-1,jj] != label):\n",
    "            sample_out[ii-1,jj] = label\n",
    "            n_pix = jj + (ii-1)*sample_img.shape[1]\n",
    "            flatzone.append(n_pix)\n",
    "#         print('[f] up flatzone',flatzone)\n",
    "        if (vec_array2d_dw == v_pix) & (sample_out[ii+1,jj] != label):\n",
    "            sample_out[ii+1,jj] = label\n",
    "            n_pix = jj + (ii+1)*sample_img.shape[1]\n",
    "            flatzone.append(n_pix)\n",
    "#         print('[f] down flatzone',flatzone)\n",
    "        if (vec_array2d_lf == v_pix) & (sample_out[ii,jj-1] != label):\n",
    "            sample_out[ii,jj-1] = label\n",
    "            n_pix = jj-1 + (ii)*sample_img.shape[1]\n",
    "            flatzone.append(n_pix)\n",
    "#         print('[f] left flatzone',flatzone)\n",
    "        if (vec_array2d_rg == v_pix) & (sample_out[ii,jj+1] != label):\n",
    "            sample_out[ii,jj+1] = label\n",
    "            n_pix = jj+1 + (ii)*sample_img.shape[1]\n",
    "            flatzone.append(n_pix)\n",
    "#         print('[f] right flatzone',flatzone)\n",
    "\n",
    "        if (diag_iz_up == v_pix) & (sample_out[ii-1,jj-1] != label):\n",
    "            sample_out[ii-1,jj-1] = label\n",
    "            n_pix = jj-1 + (ii-1)*sample_img.shape[1]\n",
    "            flatzone.append(n_pix)\n",
    "#         print('[f] diag_iz_up flatzone',flatzone)    \n",
    "        if (diag_de_up == v_pix) & (sample_out[ii-1,jj+1] != label):\n",
    "            sample_out[ii-1,jj+1] = label\n",
    "            n_pix = jj+1 + (ii-1)*sample_img.shape[1]\n",
    "            flatzone.append(n_pix)\n",
    "#         print('[f] diag_de_up flatzone',flatzone)    \n",
    "        if (diag_iz_do == v_pix) & (sample_out[ii+1,jj-1] != label):\n",
    "            sample_out[ii+1,jj-1] = label\n",
    "            n_pix = jj-1 + (ii+1)*sample_img.shape[1]\n",
    "            flatzone.append(n_pix)\n",
    "#         print('[f] diag_iz_do flatzone',flatzone)    \n",
    "        if (diag_de_do == v_pix) & (sample_out[ii+1,jj+1] != label):\n",
    "            sample_out[ii+1,jj+1] = label\n",
    "            n_pix = jj+1 + (ii+1)*sample_img.shape[1]\n",
    "            flatzone.append(n_pix)\n",
    "#         print('[f] diag_de_do flatzone',flatzone)    \n",
    "    \n",
    "    except Exception as exc:\n",
    "#         print(exc)\n",
    "        if exc == 'IndexError':\n",
    "            continue        "
   ]
  },
  {
   "cell_type": "code",
   "execution_count": 128,
   "metadata": {},
   "outputs": [
    {
     "data": {
      "text/plain": [
       "array([[0, 0, 0, 1],\n",
       "       [0, 0, 0, 1],\n",
       "       [0, 0, 0, 1],\n",
       "       [0, 0, 0, 1]])"
      ]
     },
     "execution_count": 128,
     "metadata": {},
     "output_type": "execute_result"
    }
   ],
   "source": [
    "sample_out"
   ]
  },
  {
   "cell_type": "markdown",
   "metadata": {},
   "source": [
    "## Actual procedure"
   ]
  },
  {
   "cell_type": "code",
   "execution_count": 107,
   "metadata": {},
   "outputs": [],
   "source": [
    "def get_flatzone(ii,jj,sample_image,label):\n",
    "    n_pix = ii*sample_image.shape[1] + jj\n",
    "    v_pix = sample_image[ii,jj]\n",
    "    flatzone = []\n",
    "    flatzone.append(n_pix)\n",
    "    a_neighbours = np.array(neighbours(sample_image,sample_image.flatten())) ## I know this is not a good idea.\n",
    "    sample_out = np.zeros(sample_image.shape,dtype='int')\n",
    "    sample_out[ii,jj] = label\n",
    "\n",
    "    while flatzone:\n",
    "        try:\n",
    "            n_pix = flatzone.pop(-1)\n",
    "            ii = np.int(n_pix / sample_image.shape[1])\n",
    "            jj = n_pix - ii*sample_image.shape[1] \n",
    "#             print('This is n_pix',n_pix)\n",
    "#             print('This is ii,jj',ii,jj)\n",
    "\n",
    "            vec_array2d_up,vec_array2d_dw,vec_array2d_lf,vec_array2d_rg,diag_iz_up,diag_de_up,diag_iz_do,diag_de_do = a_neighbours[:,n_pix]\n",
    "            # Checking if the neighbour have the same value\n",
    "            if (vec_array2d_up == v_pix) & (sample_out[ii-1,jj] != label):\n",
    "                sample_out[ii-1,jj] = label\n",
    "                n_pix = jj + (ii-1)*sample_image.shape[1]\n",
    "                flatzone.append(n_pix)\n",
    "    #         print('[f] up flatzone',flatzone)\n",
    "            if (vec_array2d_dw == v_pix) & (sample_out[ii+1,jj] != label):\n",
    "                sample_out[ii+1,jj] = label\n",
    "                n_pix = jj + (ii+1)*sample_image.shape[1]\n",
    "                flatzone.append(n_pix)\n",
    "    #         print('[f] down flatzone',flatzone)\n",
    "            if (vec_array2d_lf == v_pix) & (sample_out[ii,jj-1] != label):\n",
    "                sample_out[ii,jj-1] = label\n",
    "                n_pix = jj-1 + (ii)*sample_image.shape[1]\n",
    "                flatzone.append(n_pix)\n",
    "    #         print('[f] left flatzone',flatzone)\n",
    "            if (vec_array2d_rg == v_pix) & (sample_out[ii,jj+1] != label):\n",
    "                sample_out[ii,jj+1] = label\n",
    "                n_pix = jj+1 + (ii)*sample_image.shape[1]\n",
    "                flatzone.append(n_pix)\n",
    "    #         print('[f] right flatzone',flatzone)\n",
    "\n",
    "            if (diag_iz_up == v_pix) & (sample_out[ii-1,jj-1] != label):\n",
    "                sample_out[ii-1,jj-1] = label\n",
    "                n_pix = jj-1 + (ii-1)*sample_image.shape[1]\n",
    "                flatzone.append(n_pix)\n",
    "    #         print('[f] diag_iz_up flatzone',flatzone)    \n",
    "            if (diag_de_up == v_pix) & (sample_out[ii-1,jj+1] != label):\n",
    "                sample_out[ii-1,jj+1] = label\n",
    "                n_pix = jj+1 + (ii-1)*sample_image.shape[1]\n",
    "                flatzone.append(n_pix)\n",
    "    #         print('[f] diag_de_up flatzone',flatzone)    \n",
    "            if (diag_iz_do == v_pix) & (sample_out[ii+1,jj-1] != label):\n",
    "                sample_out[ii+1,jj-1] = label\n",
    "                n_pix = jj-1 + (ii+1)*sample_image.shape[1]\n",
    "                flatzone.append(n_pix)\n",
    "    #         print('[f] diag_iz_do flatzone',flatzone)    \n",
    "            if (diag_de_do == v_pix) & (sample_out[ii+1,jj+1] != label):\n",
    "                sample_out[ii+1,jj+1] = label\n",
    "                n_pix = jj+1 + (ii+1)*sample_image.shape[1]\n",
    "                flatzone.append(n_pix)\n",
    "    #         print('[f] diag_de_do flatzone',flatzone)    \n",
    "\n",
    "        except Exception as exc:\n",
    "    #         print(exc)\n",
    "            if exc == 'IndexError':\n",
    "                continue\n",
    "    \n",
    "    return sample_out"
   ]
  },
  {
   "cell_type": "code",
   "execution_count": 142,
   "metadata": {},
   "outputs": [
    {
     "data": {
      "text/plain": [
       "array([[0, 0, 0, 0],\n",
       "       [0, 0, 0, 0],\n",
       "       [0, 1, 1, 0],\n",
       "       [0, 1, 1, 0]])"
      ]
     },
     "execution_count": 142,
     "metadata": {},
     "output_type": "execute_result"
    }
   ],
   "source": [
    "ii,jj = 2,2\n",
    "label = 1\n",
    "get_flatzone(ii,jj,sample_img,label)\n"
   ]
  },
  {
   "cell_type": "markdown",
   "metadata": {},
   "source": [
    "### Checking"
   ]
  },
  {
   "cell_type": "code",
   "execution_count": 5,
   "metadata": {},
   "outputs": [
    {
     "data": {
      "text/plain": [
       "WindowsPath('D:/OneDrive - Universidad Politécnica de Madrid/Z_Otros/Asignaturas/Procesamiento de imagenes/git_exercises_0-9')"
      ]
     },
     "execution_count": 5,
     "metadata": {},
     "output_type": "execute_result"
    }
   ],
   "source": [
    "# This should adjust automatically the path i for the files \n",
    "ref_path = Path().resolve()\n",
    "ref_path"
   ]
  },
  {
   "cell_type": "code",
   "execution_count": 11,
   "metadata": {},
   "outputs": [
    {
     "name": "stdout",
     "output_type": "stream",
     "text": [
      "This is your path to read the image D:\\OneDrive - Universidad Politécnica de Madrid\\Z_Otros\\Asignaturas\\Procesamiento de imagenes\\git_exercises_0-9\\python_folder\n"
     ]
    }
   ],
   "source": [
    "# Declaring the paths to the folders of work\n",
    "\n",
    "# Your path should be solved with this:\n",
    "folder_to_read = Path(ref_path /  \"python_folder\")\n",
    "print('This is your path to read the image',str(folder_to_read))"
   ]
  },
  {
   "cell_type": "code",
   "execution_count": 12,
   "metadata": {},
   "outputs": [],
   "source": [
    "## Name of the files\n",
    "name2 = 'immed_gray_inv_20051218_frgr4_flatzone57_36.pgm'\n",
    "name1 = 'immed_gray_inv_20051218_frgr4.pgm'\n",
    "\n",
    "ruta_data1 = folder_to_read / name1\n",
    "ruta_data2 = folder_to_read / name2\n",
    "\n",
    "## Reading the image,\n",
    "# this is a method to import the image in the python environment \n",
    "with Image.open(str(ruta_data1), mode='r') as img:\n",
    "    img1 = np.array(img)\n",
    "with Image.open(str(ruta_data2), mode='r') as img:\n",
    "    img2 = np.array(img)\n"
   ]
  },
  {
   "cell_type": "code",
   "execution_count": 24,
   "metadata": {},
   "outputs": [
    {
     "data": {
      "text/plain": [
       "True"
      ]
     },
     "execution_count": 24,
     "metadata": {},
     "output_type": "execute_result"
    }
   ],
   "source": [
    "# Python starts at 0 and there is an axis transposition.\n",
    "ii,jj = 35,56\n",
    "label = 255\n",
    "result = get_flatzone(ii,jj,img1,label)\n",
    "(result == img2).all()"
   ]
  },
  {
   "cell_type": "markdown",
   "metadata": {},
   "source": [
    "### Visualization"
   ]
  },
  {
   "cell_type": "code",
   "execution_count": 25,
   "metadata": {},
   "outputs": [
    {
     "data": {
      "text/plain": [
       "<Image layer 'result' at 0x23fef7c0dc8>"
      ]
     },
     "execution_count": 25,
     "metadata": {},
     "output_type": "execute_result"
    }
   ],
   "source": [
    "viewer = napari.view_image(img1)\n",
    "viewer.add_image(img2)\n",
    "viewer.add_image(result)"
   ]
  },
  {
   "cell_type": "code",
   "execution_count": 26,
   "metadata": {},
   "outputs": [
    {
     "data": {
      "image/png": "[encoded data removed]",
      "text/plain": [
       "<napari.utils.notebook_display.NotebookScreenshot at 0x23fee97fa48>"
      ]
     },
     "execution_count": 26,
     "metadata": {},
     "output_type": "execute_result"
    }
   ],
   "source": [
    "nbscreenshot(viewer)"
   ]
  },
  {
   "cell_type": "markdown",
   "metadata": {},
   "source": [
    "## 12a Flatzones of an image\n",
    "Implement a program that obtains the flat zone (pixels of the same value) of an image (ii,jj)."
   ]
  },
  {
   "cell_type": "code",
   "execution_count": 28,
   "metadata": {},
   "outputs": [],
   "source": [
    "folder_to_read = Path(ref_path /  \"python_folder\")"
   ]
  },
  {
   "cell_type": "code",
   "execution_count": 108,
   "metadata": {},
   "outputs": [],
   "source": [
    "## Name of the files\n",
    "name3 = 'immed_gray_inv_20051218_thresh127.pgm'\n",
    "\n",
    "ruta_data3 = folder_to_read / name3\n",
    "\n",
    "## Reading the image,\n",
    "# this is a method to import the image in the python environment \n",
    "with Image.open(str(ruta_data3), mode='r') as img:\n",
    "    img3 = np.array(img)"
   ]
  },
  {
   "cell_type": "code",
   "execution_count": 109,
   "metadata": {},
   "outputs": [
    {
     "name": "stdout",
     "output_type": "stream",
     "text": [
      "coords 0 3\n",
      "this is label 2\n",
      "[[ 0  0  0  1]\n",
      " [-1 -1 -1  1]\n",
      " [-1 -1 -1  1]\n",
      " [-1 -1 -1  1]]\n",
      "coords 1 0\n",
      "this is label 3\n",
      "[[ 0  0  0  1]\n",
      " [ 2  2  2  1]\n",
      " [ 2 -1 -1  1]\n",
      " [ 2 -1 -1  1]]\n",
      "coords 1 1\n",
      "coords 1 2\n",
      "coords 1 3\n",
      "coords 2 0\n",
      "coords 2 3\n",
      "coords 3 0\n",
      "coords 3 3\n"
     ]
    },
    {
     "data": {
      "text/plain": [
       "array([[0, 0, 0, 1],\n",
       "       [2, 2, 2, 1],\n",
       "       [2, 0, 0, 1],\n",
       "       [2, 0, 0, 1]])"
      ]
     },
     "execution_count": 109,
     "metadata": {},
     "output_type": "execute_result"
    }
   ],
   "source": [
    "background = 2\n",
    "\n",
    "dummy_img1 = np.zeros(sample_img.shape,dtype='int') -1\n",
    "label = 1\n",
    "for ii in range(sample_img.shape[0]):\n",
    "    for jj in range(sample_img.shape[1]):\n",
    "        # Checking background\n",
    "        if (sample_img[ii,jj] == background):\n",
    "            dummy_img1[ii,jj] = 0\n",
    "        if (sample_img[ii,jj] != background):\n",
    "            print('coords',ii,jj)\n",
    "            # Checking it is not labelled\n",
    "            if (dummy_img1[ii,jj] == -1):\n",
    "                label += 1\n",
    "                print('this is label',label)\n",
    "                dummy_img1 += get_flatzone(ii,jj,sample_img,label)\n",
    "                print(dummy_img1)\n",
    "dummy_img1"
   ]
  },
  {
   "cell_type": "markdown",
   "metadata": {},
   "source": [
    "### Encapsulated functions"
   ]
  },
  {
   "cell_type": "code",
   "execution_count": 110,
   "metadata": {},
   "outputs": [],
   "source": [
    "\n",
    "background = 2\n",
    "def get_flatzone(ii,jj,sample_image,a_neighbours,label):\n",
    "    n_pix = ii*sample_image.shape[1] + jj\n",
    "    v_pix = sample_image[ii,jj]\n",
    "    flatzone = []\n",
    "    flatzone.append(n_pix)\n",
    "#     a_neighbours = np.array(neighbours(sample_image,sample_image.flatten())) ## MODIFIED\n",
    "    sample_out = np.zeros(sample_image.shape,dtype='int')\n",
    "    sample_out[ii,jj] = label\n",
    "\n",
    "    while flatzone:\n",
    "        try:\n",
    "            n_pix = flatzone.pop(-1)\n",
    "            ii = np.int(n_pix / sample_image.shape[1])\n",
    "            jj = n_pix - ii*sample_image.shape[1] \n",
    "#             print('This is n_pix',n_pix)\n",
    "#             print('This is ii,jj',ii,jj)\n",
    "\n",
    "            vec_array2d_up,vec_array2d_dw,vec_array2d_lf,vec_array2d_rg,diag_iz_up,diag_de_up,diag_iz_do,diag_de_do = a_neighbours[:,n_pix]\n",
    "            # Checking if the neighbour have the same value\n",
    "            if (vec_array2d_up == v_pix) & (sample_out[ii-1,jj] != label):\n",
    "                sample_out[ii-1,jj] = label\n",
    "                n_pix = jj + (ii-1)*sample_image.shape[1]\n",
    "                flatzone.append(n_pix)\n",
    "    #         print('[f] up flatzone',flatzone)\n",
    "            if (vec_array2d_dw == v_pix) & (sample_out[ii+1,jj] != label):\n",
    "                sample_out[ii+1,jj] = label\n",
    "                n_pix = jj + (ii+1)*sample_image.shape[1]\n",
    "                flatzone.append(n_pix)\n",
    "    #         print('[f] down flatzone',flatzone)\n",
    "            if (vec_array2d_lf == v_pix) & (sample_out[ii,jj-1] != label):\n",
    "                sample_out[ii,jj-1] = label\n",
    "                n_pix = jj-1 + (ii)*sample_image.shape[1]\n",
    "                flatzone.append(n_pix)\n",
    "    #         print('[f] left flatzone',flatzone)\n",
    "            if (vec_array2d_rg == v_pix) & (sample_out[ii,jj+1] != label):\n",
    "                sample_out[ii,jj+1] = label\n",
    "                n_pix = jj+1 + (ii)*sample_image.shape[1]\n",
    "                flatzone.append(n_pix)\n",
    "    #         print('[f] right flatzone',flatzone)\n",
    "\n",
    "            if (diag_iz_up == v_pix) & (sample_out[ii-1,jj-1] != label):\n",
    "                sample_out[ii-1,jj-1] = label\n",
    "                n_pix = jj-1 + (ii-1)*sample_image.shape[1]\n",
    "                flatzone.append(n_pix)\n",
    "    #         print('[f] diag_iz_up flatzone',flatzone)    \n",
    "            if (diag_de_up == v_pix) & (sample_out[ii-1,jj+1] != label):\n",
    "                sample_out[ii-1,jj+1] = label\n",
    "                n_pix = jj+1 + (ii-1)*sample_image.shape[1]\n",
    "                flatzone.append(n_pix)\n",
    "    #         print('[f] diag_de_up flatzone',flatzone)    \n",
    "            if (diag_iz_do == v_pix) & (sample_out[ii+1,jj-1] != label):\n",
    "                sample_out[ii+1,jj-1] = label\n",
    "                n_pix = jj-1 + (ii+1)*sample_image.shape[1]\n",
    "                flatzone.append(n_pix)\n",
    "    #         print('[f] diag_iz_do flatzone',flatzone)    \n",
    "            if (diag_de_do == v_pix) & (sample_out[ii+1,jj+1] != label):\n",
    "                sample_out[ii+1,jj+1] = label\n",
    "                n_pix = jj+1 + (ii+1)*sample_image.shape[1]\n",
    "                flatzone.append(n_pix)\n",
    "    #         print('[f] diag_de_do flatzone',flatzone)    \n",
    "\n",
    "        except Exception as exc:\n",
    "    #         print(exc)\n",
    "            if exc == 'IndexError':\n",
    "                continue\n",
    "    \n",
    "    return sample_out\n",
    "\n",
    "def get_labels(sample_image,background=0):\n",
    "    a_neighbours = np.array(neighbours(sample_image,sample_image.flatten()))\n",
    "    dummy_img1 = np.zeros(sample_image.shape,dtype='int') -1\n",
    "    label = 1\n",
    "    for ii in range(sample_image.shape[0]):\n",
    "        for jj in range(sample_image.shape[1]):\n",
    "            # Checking background\n",
    "            if (sample_image[ii,jj] == background):\n",
    "                dummy_img1[ii,jj] = 0\n",
    "            if (sample_image[ii,jj] != background):\n",
    "#                 print('coords',ii,jj)\n",
    "                # Checking it is not labelled\n",
    "                if (dummy_img1[ii,jj] == -1):\n",
    "                    label += 1\n",
    "#                     print('this is label',label)\n",
    "                    dummy_img1 += get_flatzone(ii,jj,sample_image,a_neighbours,label)\n",
    "#                     print(dummy_img1)\n",
    "    return dummy_img1"
   ]
  },
  {
   "cell_type": "code",
   "execution_count": 111,
   "metadata": {},
   "outputs": [
    {
     "data": {
      "text/plain": [
       "array([[0, 0, 0, 1],\n",
       "       [2, 2, 2, 1],\n",
       "       [2, 0, 0, 1],\n",
       "       [2, 0, 0, 1]])"
      ]
     },
     "execution_count": 111,
     "metadata": {},
     "output_type": "execute_result"
    }
   ],
   "source": [
    "get_labels(sample_img,2)"
   ]
  },
  {
   "cell_type": "code",
   "execution_count": 113,
   "metadata": {},
   "outputs": [
    {
     "data": {
      "text/plain": [
       "<Image layer 'labels' at 0x23ff5b1eec8>"
      ]
     },
     "execution_count": 113,
     "metadata": {},
     "output_type": "execute_result"
    }
   ],
   "source": [
    "background = 0\n",
    "labels = get_labels(img3,background)\n",
    "\n",
    "viewer2 = napari.view_image(img3)\n",
    "viewer2.add_image(labels)"
   ]
  },
  {
   "cell_type": "code",
   "execution_count": 112,
   "metadata": {},
   "outputs": [
    {
     "data": {
      "text/plain": [
       "54"
      ]
     },
     "execution_count": 112,
     "metadata": {},
     "output_type": "execute_result"
    }
   ],
   "source": [
    "## Total number of regions \n",
    "# Remind python starts at 0. There 54 regions + background\n",
    "np.max(result12a)"
   ]
  },
  {
   "cell_type": "code",
   "execution_count": 114,
   "metadata": {},
   "outputs": [
    {
     "data": {
      "image/png": "[encoded data removed]",
      "text/plain": [
       "<napari.utils.notebook_display.NotebookScreenshot at 0x23fef4b5348>"
      ]
     },
     "execution_count": 114,
     "metadata": {},
     "output_type": "execute_result"
    }
   ],
   "source": [
    "nbscreenshot(viewer2)"
   ]
  },
  {
   "cell_type": "code",
   "execution_count": null,
   "metadata": {},
   "outputs": [],
   "source": []
  }
 ],
 "metadata": {
  "kernelspec": {
   "display_name": "Python 3",
   "language": "python",
   "name": "python3"
  },
  "language_info": {
   "codemirror_mode": {
    "name": "ipython",
    "version": 3
   },
   "file_extension": ".py",
   "mimetype": "text/x-python",
   "name": "python",
   "nbconvert_exporter": "python",
   "pygments_lexer": "ipython3",
   "version": "3.7.6"
  }
 },
 "nbformat": 4,
 "nbformat_minor": 4
}
